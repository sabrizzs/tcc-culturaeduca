{
 "cells": [
  {
   "cell_type": "markdown",
   "id": "875a9187",
   "metadata": {},
   "source": [
    "## Uso da biblioteca RapidFuzz para normalização de endereços\n",
    "\n",
    "Demonstração do uso da biblioteca `RapidFuzz` para identificar correspondências aproximadas entre endereços digitados de forma inconsistente e uma base de endereços de referência."
   ]
  },
  {
   "cell_type": "markdown",
   "id": "3204f4f2",
   "metadata": {},
   "source": [
    "### Endereços com ruído"
   ]
  },
  {
   "cell_type": "code",
   "execution_count": 4,
   "id": "6ecfb59e",
   "metadata": {},
   "outputs": [],
   "source": [
    "enderecos = [\n",
    "    \"Av. Paulista 1578\",\n",
    "    \"R. Vergueiro 1000\",\n",
    "    \"Bar. de Itapura, 202\",\n",
    "    \"Rua do Café123\",\n",
    "    \"Av Brigadeiro Luis Antonio\",\n",
    "    \"Rua Sta. Ifigenia, Centro\",\n",
    "    \"Av. 9 de Julho, SP\",\n",
    "    \"Rua das Flores123 apto3\"\n",
    "]"
   ]
  },
  {
   "cell_type": "markdown",
   "id": "a0adeb16",
   "metadata": {},
   "source": [
    "### Base de endereços de referência \n"
   ]
  },
  {
   "cell_type": "code",
   "execution_count": 5,
   "id": "62ac4c0b",
   "metadata": {},
   "outputs": [],
   "source": [
    "base_oficial = [\n",
    "    \"Avenida Paulista, 1578\",\n",
    "    \"Rua Vergueiro, 1000\",\n",
    "    \"Rua Barão de Itapura, 202\",\n",
    "    \"Rua do Café, 123\",\n",
    "    \"Avenida Brigadeiro Luís Antônio\",\n",
    "    \"Rua Santa Ifigênia, Centro\",\n",
    "    \"Avenida Nove de Julho, São Paulo\",\n",
    "    \"Rua das Flores, 123, Apto 3\"\n",
    "]"
   ]
  },
  {
   "cell_type": "markdown",
   "id": "63440973",
   "metadata": {},
   "source": [
    "## Busca por similaridade\n",
    "Vamos comparar os endereços ruidosos com a base oficial e verificar os melhores matches."
   ]
  },
  {
   "cell_type": "code",
   "execution_count": null,
   "id": "bbe38ed3",
   "metadata": {},
   "outputs": [
    {
     "name": "stdout",
     "output_type": "stream",
     "text": [
      "\n",
      "Endereço a normalizar: Av. Paulista 1578\n",
      "Melhor correspondência: Avenida Paulista, 1578\n",
      "Similaridade: 82.05128205128204 %\n",
      "\n",
      "Endereço a normalizar: R. Vergueiro 1000\n",
      "Melhor correspondência: Rua Vergueiro, 1000\n",
      "Similaridade: 88.88888888888889 %\n",
      "\n",
      "Endereço a normalizar: Bar. de Itapura, 202\n",
      "Melhor correspondência: Rua Barão de Itapura, 202\n",
      "Similaridade: 84.44444444444444 %\n",
      "\n",
      "Endereço a normalizar: Rua do Café123\n",
      "Melhor correspondência: Rua do Café, 123\n",
      "Similaridade: 73.33333333333334 %\n",
      "\n",
      "Endereço a normalizar: Av Brigadeiro Luis Antonio\n",
      "Melhor correspondência: Avenida Brigadeiro Luís Antônio\n",
      "Similaridade: 84.21052631578947 %\n",
      "\n",
      "Endereço a normalizar: Rua Sta. Ifigenia, Centro\n",
      "Melhor correspondência: Rua Santa Ifigênia, Centro\n",
      "Similaridade: 90.19607843137256 %\n",
      "\n",
      "Endereço a normalizar: Av. 9 de Julho, SP\n",
      "Melhor correspondência: Avenida Nove de Julho, São Paulo\n",
      "Similaridade: 56.00000000000001 %\n",
      "\n",
      "Endereço a normalizar: Rua das Flores123 apto3\n",
      "Melhor correspondência: Rua das Flores, 123, Apto 3\n",
      "Similaridade: 56.00000000000001 %\n"
     ]
    },
    {
     "ename": "",
     "evalue": "",
     "output_type": "error",
     "traceback": [
      "\u001b[1;31mThe Kernel crashed while executing code in the current cell or a previous cell. \n",
      "\u001b[1;31mPlease review the code in the cell(s) to identify a possible cause of the failure. \n",
      "\u001b[1;31mClick <a href='https://aka.ms/vscodeJupyterKernelCrash'>here</a> for more info. \n",
      "\u001b[1;31mView Jupyter <a href='command:jupyter.viewOutput'>log</a> for further details."
     ]
    }
   ],
   "source": [
    "from rapidfuzz import fuzz, process\n",
    "\n",
    "for endereco in enderecos:\n",
    "    print(\"\\nEndereço a normalizar:\", endereco)\n",
    "    matches = process.extract(endereco, base_oficial, scorer=fuzz.token_sort_ratio, limit=1)\n",
    "    melhor_match = matches[0]\n",
    "    print(\"Melhor correspondência:\", melhor_match[0])\n",
    "    print(\"Similaridade:\", melhor_match[1], \"%\")"
   ]
  }
 ],
 "metadata": {
  "kernelspec": {
   "display_name": "Python 3",
   "language": "python",
   "name": "python3"
  },
  "language_info": {
   "codemirror_mode": {
    "name": "ipython",
    "version": 3
   },
   "file_extension": ".py",
   "mimetype": "text/x-python",
   "name": "python",
   "nbconvert_exporter": "python",
   "pygments_lexer": "ipython3",
   "version": "3.10.11"
  }
 },
 "nbformat": 4,
 "nbformat_minor": 5
}
